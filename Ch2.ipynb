{
  "nbformat": 4,
  "nbformat_minor": 0,
  "metadata": {
    "colab": {
      "name": "Untitled11.ipynb",
      "provenance": [],
      "authorship_tag": "ABX9TyNfqI4EhwJd+lpj8qb7nUJB",
      "include_colab_link": true
    },
    "kernelspec": {
      "name": "python3",
      "display_name": "Python 3"
    },
    "language_info": {
      "name": "python"
    }
  },
  "cells": [
    {
      "cell_type": "markdown",
      "metadata": {
        "id": "view-in-github",
        "colab_type": "text"
      },
      "source": [
        "<a href=\"https://colab.research.google.com/github/jojivk/hello-world/blob/master/Ch2.ipynb\" target=\"_parent\"><img src=\"https://colab.research.google.com/assets/colab-badge.svg\" alt=\"Open In Colab\"/></a>"
      ]
    },
    {
      "cell_type": "code",
      "metadata": {
        "colab": {
          "base_uri": "https://localhost:8080/"
        },
        "id": "XqRrpJI9PdWc",
        "outputId": "8915355b-9964-4546-ef08-afab7613a553"
      },
      "source": [
        "import tensorflow as tf\n",
        "x=tf.ones(shape=(2,1))\n",
        "print(x)\n",
        "x=tf.zeros(shape=(2,1))\n",
        "print(x)"
      ],
      "execution_count": 3,
      "outputs": [
        {
          "output_type": "stream",
          "name": "stdout",
          "text": [
            "tf.Tensor(\n",
            "[[1.]\n",
            " [1.]], shape=(2, 1), dtype=float32)\n",
            "tf.Tensor(\n",
            "[[0.]\n",
            " [0.]], shape=(2, 1), dtype=float32)\n"
          ]
        }
      ]
    },
    {
      "cell_type": "code",
      "metadata": {
        "colab": {
          "base_uri": "https://localhost:8080/"
        },
        "id": "WrkOl3g4PrkM",
        "outputId": "c6354ce2-c1b3-4b61-8b17-57d290963d38"
      },
      "source": [
        "x=tf.random.normal(shape=(3,1), mean=0., stddev=1.)\n",
        "print(x)"
      ],
      "execution_count": 5,
      "outputs": [
        {
          "output_type": "stream",
          "name": "stdout",
          "text": [
            "tf.Tensor(\n",
            "[[ 0.7347071 ]\n",
            " [-0.47906724]\n",
            " [ 0.08540957]], shape=(3, 1), dtype=float32)\n"
          ]
        }
      ]
    },
    {
      "cell_type": "code",
      "metadata": {
        "colab": {
          "base_uri": "https://localhost:8080/"
        },
        "id": "UsxnyY-zP_hA",
        "outputId": "0db420bf-c899-4039-b421-27a32880d186"
      },
      "source": [
        "x=tf.random.uniform(shape=(3,1), minval=0, maxval=3.0)\n",
        "print(x)"
      ],
      "execution_count": 7,
      "outputs": [
        {
          "output_type": "stream",
          "name": "stdout",
          "text": [
            "tf.Tensor(\n",
            "[[1.6812197]\n",
            " [1.9730043]\n",
            " [2.4084702]], shape=(3, 1), dtype=float32)\n"
          ]
        }
      ]
    },
    {
      "cell_type": "code",
      "metadata": {
        "colab": {
          "base_uri": "https://localhost:8080/"
        },
        "id": "CVYay_ZkQLVn",
        "outputId": "550fc0bf-737c-4c08-a585-064c02c70ad3"
      },
      "source": [
        "import numpy as np\n",
        "x=np.ones(shape=(2,2))\n",
        "x[0,0]=0.\n",
        "\n",
        "v=tf.Variable(initial_value=tf.random.normal(shape=(3,1)))\n",
        "print(v)"
      ],
      "execution_count": 12,
      "outputs": [
        {
          "output_type": "stream",
          "name": "stdout",
          "text": [
            "<tf.Variable 'Variable:0' shape=(3, 1) dtype=float32, numpy=\n",
            "array([[ 1.0908688 ],\n",
            "       [-1.255135  ],\n",
            "       [-0.51861775]], dtype=float32)>\n"
          ]
        }
      ]
    },
    {
      "cell_type": "code",
      "metadata": {
        "colab": {
          "base_uri": "https://localhost:8080/"
        },
        "id": "Dj1rE2hSQwfT",
        "outputId": "41c71a5a-ff8c-4d1a-f50e-c0bb960a2e8f"
      },
      "source": [
        "v.assign(tf.ones((3,1)))"
      ],
      "execution_count": 14,
      "outputs": [
        {
          "output_type": "execute_result",
          "data": {
            "text/plain": [
              "<tf.Variable 'UnreadVariable' shape=(3, 1) dtype=float32, numpy=\n",
              "array([[1.],\n",
              "       [1.],\n",
              "       [1.]], dtype=float32)>"
            ]
          },
          "metadata": {},
          "execution_count": 14
        }
      ]
    },
    {
      "cell_type": "code",
      "metadata": {
        "colab": {
          "base_uri": "https://localhost:8080/"
        },
        "id": "Kz-7DnjpQ5rF",
        "outputId": "0f1fbfbb-47c5-41c5-9e6f-c7708b7a772a"
      },
      "source": [
        "v[0,0].assign(3.)"
      ],
      "execution_count": 15,
      "outputs": [
        {
          "output_type": "execute_result",
          "data": {
            "text/plain": [
              "<tf.Variable 'UnreadVariable' shape=(3, 1) dtype=float32, numpy=\n",
              "array([[3.],\n",
              "       [1.],\n",
              "       [1.]], dtype=float32)>"
            ]
          },
          "metadata": {},
          "execution_count": 15
        }
      ]
    },
    {
      "cell_type": "code",
      "metadata": {
        "colab": {
          "base_uri": "https://localhost:8080/"
        },
        "id": "S9Oh3s4LQ-oA",
        "outputId": "4eb2b95f-dba8-4da7-fbb9-5ae23ae9f75b"
      },
      "source": [
        "v.assign_add(tf.ones((3,1)))"
      ],
      "execution_count": 16,
      "outputs": [
        {
          "output_type": "execute_result",
          "data": {
            "text/plain": [
              "<tf.Variable 'UnreadVariable' shape=(3, 1) dtype=float32, numpy=\n",
              "array([[4.],\n",
              "       [2.],\n",
              "       [2.]], dtype=float32)>"
            ]
          },
          "metadata": {},
          "execution_count": 16
        }
      ]
    },
    {
      "cell_type": "code",
      "metadata": {
        "id": "zvvBZa6HR2j7"
      },
      "source": [
        "a = tf.ones((2,2))\n",
        "b = tf.square(a)\n",
        "c = tf.sqrt(a)\n",
        "d = b + c\n",
        "e = tf.matmul(a,b)\n",
        "e *=d"
      ],
      "execution_count": 17,
      "outputs": []
    },
    {
      "cell_type": "code",
      "metadata": {
        "id": "wF21VarwSFhA"
      },
      "source": [
        "input_var = tf.Variable(initial_value=3.)\n",
        "with tf.GradientTape() as tape:\n",
        "  result=tf.square(input_var)\n",
        "gradient = tape.gradient(result, input_var)"
      ],
      "execution_count": 18,
      "outputs": []
    },
    {
      "cell_type": "code",
      "metadata": {
        "id": "zRokxYFCSWLJ"
      },
      "source": [
        "input_const = tf.constant(3.)\n",
        "with tf.GradientTape() as tape:\n",
        "  tape.watch(input_const)\n",
        "  result = tf.square(input_const)\n",
        "gradient = tape.gradient(result, input_const)"
      ],
      "execution_count": 19,
      "outputs": []
    },
    {
      "cell_type": "code",
      "metadata": {
        "id": "cBktI5VASm99"
      },
      "source": [
        "time = tf.Variable(0.)\n",
        "with tf.GradientTape() as outer_tape:\n",
        "  with tf.GradientTape() as inner_tape:\n",
        "    position = 4.9 * time **2\n",
        "  speed = inner_tape.gradient(position, time)\n",
        "acceleration= outer_tape.gradient(speed, time)"
      ],
      "execution_count": 21,
      "outputs": []
    },
    {
      "cell_type": "markdown",
      "metadata": {
        "id": "zbQ__JK-WFWo"
      },
      "source": [
        "An end-to-end example: A linear classifier in pure Tensorflow\n",
        "Generating two classes of random points in a 2D plane."
      ]
    },
    {
      "cell_type": "code",
      "metadata": {
        "id": "tSTXqcslWPH0"
      },
      "source": [
        "num_samples_per_class = 1000\n",
        "negative_samples = np.random.multivariate_normal(\n",
        "    mean=[0,3],\n",
        "    cov=[[1, 0.5],[0.5, 1]],\n",
        "    size=num_samples_per_class\n",
        ")\n",
        "positive_samples = np.random.multivariate_normal(\n",
        "    mean=[3,0],\n",
        "    cov=[[1,0.5],[0.5,1]],\n",
        "    size=num_samples_per_class\n",
        ")"
      ],
      "execution_count": 25,
      "outputs": []
    },
    {
      "cell_type": "markdown",
      "metadata": {
        "id": "tElejbDNW3He"
      },
      "source": [
        "**Stacking the two classes into an array with shape(2000,2)**"
      ]
    },
    {
      "cell_type": "code",
      "metadata": {
        "id": "OPsflb6kWD9z"
      },
      "source": [
        "inputs=np.vstack((negative_samples, positive_samples)).astype(np.float32)"
      ],
      "execution_count": 27,
      "outputs": []
    },
    {
      "cell_type": "markdown",
      "metadata": {
        "id": "K7rs8tNoXoex"
      },
      "source": [
        "**Generating the corresponding targets (0 and 1)**"
      ]
    },
    {
      "cell_type": "code",
      "metadata": {
        "id": "oeoLkvB1XSQ0"
      },
      "source": [
        "targets = np.vstack((np.zeros((num_samples_per_class,1), dtype=\"float32\"),\n",
        "                     np.ones((num_samples_per_class,1), dtype=\"float32\")))"
      ],
      "execution_count": 29,
      "outputs": []
    },
    {
      "cell_type": "markdown",
      "metadata": {
        "id": "4TwD9dY2Xumq"
      },
      "source": [
        "**Plotting the two point classes**"
      ]
    },
    {
      "cell_type": "code",
      "metadata": {
        "colab": {
          "base_uri": "https://localhost:8080/",
          "height": 265
        },
        "id": "yHIzvVzBXlg-",
        "outputId": "b759282b-f9bf-43f3-c1a2-535fea774a80"
      },
      "source": [
        "import matplotlib.pyplot as plt\n",
        "plt.scatter(inputs[:,0], inputs[:,1], c=targets[:,0])\n",
        "plt.show()"
      ],
      "execution_count": 31,
      "outputs": [
        {
          "output_type": "display_data",
          "data": {
            "image/png": "[encoded data removed]",
            "text/plain": [
              "<Figure size 432x288 with 1 Axes>"
            ]
          },
          "metadata": {
            "needs_background": "light"
          }
        }
      ]
    },
    {
      "cell_type": "markdown",
      "metadata": {
        "id": "TxvhMp51YTrq"
      },
      "source": [
        "**Create the linear classifier variables**"
      ]
    },
    {
      "cell_type": "code",
      "metadata": {
        "id": "0rq2eYIYYXQ7"
      },
      "source": [
        "input_dim =2\n",
        "output_dim =1\n",
        "W = tf.Variable(initial_value=tf.random.uniform(shape=(input_dim, output_dim)))\n",
        "b = tf.Variable(initial_value=tf.zeros(shape=(output_dim,)))"
      ],
      "execution_count": 33,
      "outputs": []
    },
    {
      "cell_type": "markdown",
      "metadata": {
        "id": "fiqsqUmzY1De"
      },
      "source": [
        "**The forward pass function**"
      ]
    },
    {
      "cell_type": "code",
      "metadata": {
        "id": "IKqunlEDY5Ay"
      },
      "source": [
        "def model(inputs):\n",
        "  return tf.matmul(inputs,W) +b"
      ],
      "execution_count": 34,
      "outputs": []
    },
    {
      "cell_type": "markdown",
      "metadata": {
        "id": "IouHHJs-eEEX"
      },
      "source": [
        "**The mean squared error loss function**"
      ]
    },
    {
      "cell_type": "code",
      "metadata": {
        "id": "eX7AC9IkeI8r"
      },
      "source": [
        "def square_loss(targets, predictions):\n",
        "  per_sample_losses = tf.square(targets - predictions)\n",
        "  return tf.reduce_mean(per_sample_losses)"
      ],
      "execution_count": 35,
      "outputs": []
    },
    {
      "cell_type": "markdown",
      "metadata": {
        "id": "Frrce39-eY0C"
      },
      "source": [
        "**The training step function**"
      ]
    },
    {
      "cell_type": "code",
      "metadata": {
        "id": "Gwhegl9gecXv"
      },
      "source": [
        "learning_rate=0.1\n",
        "\n",
        "def training_step(inputs, targets):\n",
        "  with tf.GradientTape() as tape:\n",
        "    predictions = model(inputs)\n",
        "    loss= square_loss(predictions, targets)\n",
        "  grad_loss_wrt_W, grad_loss_wrt_b = tape.gradient(loss, [W,b])\n",
        "  W.assign_sub(grad_loss_wrt_W * learning_rate)\n",
        "  b.assign_sub(grad_loss_wrt_b * learning_rate)\n",
        "  return loss"
      ],
      "execution_count": 42,
      "outputs": []
    },
    {
      "cell_type": "markdown",
      "metadata": {
        "id": "XwGr2zZLfDc5"
      },
      "source": [
        "**The batch training loop**"
      ]
    },
    {
      "cell_type": "code",
      "metadata": {
        "colab": {
          "base_uri": "https://localhost:8080/"
        },
        "id": "kRTPHOBqfHK7",
        "outputId": "79ac1586-71c9-42f9-a85e-20b8be8b6826"
      },
      "source": [
        "for step in range(40):\n",
        "  loss=training_step(inputs, targets)\n",
        "  print(f\"Loss at step {step}: {loss:.4f}\")"
      ],
      "execution_count": 43,
      "outputs": [
        {
          "output_type": "stream",
          "name": "stdout",
          "text": [
            "Loss at step 0: 1.5800\n",
            "Loss at step 1: 0.1271\n",
            "Loss at step 2: 0.0955\n",
            "Loss at step 3: 0.0868\n",
            "Loss at step 4: 0.0812\n",
            "Loss at step 5: 0.0764\n",
            "Loss at step 6: 0.0720\n",
            "Loss at step 7: 0.0680\n",
            "Loss at step 8: 0.0644\n",
            "Loss at step 9: 0.0611\n",
            "Loss at step 10: 0.0581\n",
            "Loss at step 11: 0.0553\n",
            "Loss at step 12: 0.0528\n",
            "Loss at step 13: 0.0505\n",
            "Loss at step 14: 0.0484\n",
            "Loss at step 15: 0.0464\n",
            "Loss at step 16: 0.0447\n",
            "Loss at step 17: 0.0431\n",
            "Loss at step 18: 0.0416\n",
            "Loss at step 19: 0.0403\n",
            "Loss at step 20: 0.0391\n",
            "Loss at step 21: 0.0380\n",
            "Loss at step 22: 0.0370\n",
            "Loss at step 23: 0.0360\n",
            "Loss at step 24: 0.0352\n",
            "Loss at step 25: 0.0344\n",
            "Loss at step 26: 0.0337\n",
            "Loss at step 27: 0.0331\n",
            "Loss at step 28: 0.0325\n",
            "Loss at step 29: 0.0320\n",
            "Loss at step 30: 0.0315\n",
            "Loss at step 31: 0.0310\n",
            "Loss at step 32: 0.0306\n",
            "Loss at step 33: 0.0303\n",
            "Loss at step 34: 0.0299\n",
            "Loss at step 35: 0.0296\n",
            "Loss at step 36: 0.0293\n",
            "Loss at step 37: 0.0291\n",
            "Loss at step 38: 0.0288\n",
            "Loss at step 39: 0.0286\n"
          ]
        }
      ]
    },
    {
      "cell_type": "code",
      "metadata": {
        "colab": {
          "base_uri": "https://localhost:8080/",
          "height": 265
        },
        "id": "85YwqzyifqwG",
        "outputId": "8148d8e2-0047-4d09-8191-2ac12e4f4cd2"
      },
      "source": [
        "predictions=model(inputs)\n",
        "plt.scatter(inputs[:,0], inputs[:,1], c=predictions[:,0] > 0.5)\n",
        "plt.show()"
      ],
      "execution_count": 48,
      "outputs": [
        {
          "output_type": "display_data",
          "data": {
            "image/png": "[encoded data removed]",
            "text/plain": [
              "<Figure size 432x288 with 1 Axes>"
            ]
          },
          "metadata": {
            "needs_background": "light"
          }
        }
      ]
    },
    {
      "cell_type": "code",
      "metadata": {
        "colab": {
          "base_uri": "https://localhost:8080/",
          "height": 283
        },
        "id": "aB-BBKfQgZM4",
        "outputId": "127bcdce-d19e-49f9-96a5-ab96b4234b27"
      },
      "source": [
        "x = np.linspace(-1, 4, 100)\n",
        "y = - W[0] / W[1] *x + (0.5 - b) /W[1]\n",
        "plt.plot(x, y, \"-r\")\n",
        "plt.scatter(inputs[:,0], inputs[:, 1], c=predictions[:,0] > 0.5)"
      ],
      "execution_count": 49,
      "outputs": [
        {
          "output_type": "execute_result",
          "data": {
            "text/plain": [
              "<matplotlib.collections.PathCollection at 0x7f5446a59f90>"
            ]
          },
          "metadata": {},
          "execution_count": 49
        },
        {
          "output_type": "display_data",
          "data": {
            "image/png": "[encoded data removed]",
            "text/plain": [
              "<Figure size 432x288 with 1 Axes>"
            ]
          },
          "metadata": {
            "needs_background": "light"
          }
        }
      ]
    },
    {
      "cell_type": "markdown",
      "metadata": {
        "id": "IR1_ZaV1gzkQ"
      },
      "source": [
        "**Layers: The building blocks of deep learning**\n",
        "\n",
        "\n"
      ]
    },
    {
      "cell_type": "code",
      "metadata": {
        "id": "RyVv1CT-gx_6"
      },
      "source": [
        "from tensorflow import keras\n",
        "\n",
        "class SimpleDense(keras.layers.Layer):\n",
        "  def __inint__(self, units, actication=None):\n",
        "    super().__init__()\n",
        "    self.units=units\n",
        "    self.activation=activation"
      ],
      "execution_count": null,
      "outputs": []
    },
    {
      "cell_type": "code",
      "metadata": {
        "id": "bjbKNNn4oAtW"
      },
      "source": [
        ""
      ],
      "execution_count": null,
      "outputs": []
    }
  ]
}