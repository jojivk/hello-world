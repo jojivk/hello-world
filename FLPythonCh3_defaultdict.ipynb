{
  "nbformat": 4,
  "nbformat_minor": 0,
  "metadata": {
    "colab": {
      "name": "Untitled16.ipynb",
      "provenance": [],
      "authorship_tag": "ABX9TyNNcTcfUbi4cb+gKqHtpxXs",
      "include_colab_link": true
    },
    "kernelspec": {
      "name": "python3",
      "display_name": "Python 3"
    },
    "language_info": {
      "name": "python"
    }
  },
  "cells": [
    {
      "cell_type": "markdown",
      "metadata": {
        "id": "view-in-github",
        "colab_type": "text"
      },
      "source": [
        "<a href=\"https://colab.research.google.com/github/jojivk/hello-world/blob/master/FLPythonCh3_defaultdict.ipynb\" target=\"_parent\"><img src=\"https://colab.research.google.com/assets/colab-badge.svg\" alt=\"Open In Colab\"/></a>"
      ]
    },
    {
      "cell_type": "code",
      "execution_count": null,
      "metadata": {
        "id": "UyM1ricx49o_"
      },
      "outputs": [],
      "source": [
        "import sys\n",
        "import re\n",
        "import collections\n",
        "\n",
        "WORD_RE = re.compile(r'\\w+')\n",
        "\n",
        "index = collections.defaultdict(list)\n",
        "with open(sys.argv[1], encoding='utf=8') as fp:\n",
        "  for line_no, line in enumerate(fp, 1):\n",
        "    for match in WORD_RE.finditer(line):\n",
        "      word = match.group()\n",
        "      column_no = match.start()+1\n",
        "      location = (line_no, column_no)\n",
        "      index[word].append(location)\n",
        "\n",
        "for word in sorted(index, key=str.upper):\n",
        "  print(word, index[word])"
      ]
    },
    {
      "cell_type": "code",
      "source": [
        ""
      ],
      "metadata": {
        "id": "VV1sZpp85t7Y"
      },
      "execution_count": null,
      "outputs": []
    }
  ]
}