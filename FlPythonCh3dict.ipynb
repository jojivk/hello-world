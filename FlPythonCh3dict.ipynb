{
  "nbformat": 4,
  "nbformat_minor": 0,
  "metadata": {
    "colab": {
      "name": "Untitled14.ipynb",
      "provenance": [],
      "authorship_tag": "ABX9TyPXJfZgQsorJJUwo//fXm0Z",
      "include_colab_link": true
    },
    "kernelspec": {
      "name": "python3",
      "display_name": "Python 3"
    },
    "language_info": {
      "name": "python"
    }
  },
  "cells": [
    {
      "cell_type": "markdown",
      "metadata": {
        "id": "view-in-github",
        "colab_type": "text"
      },
      "source": [
        "<a href=\"https://colab.research.google.com/github/jojivk/hello-world/blob/master/FlPythonCh3dict.ipynb\" target=\"_parent\"><img src=\"https://colab.research.google.com/assets/colab-badge.svg\" alt=\"Open In Colab\"/></a>"
      ]
    },
    {
      "cell_type": "code",
      "execution_count": 1,
      "metadata": {
        "id": "r1tuQNMc12eT"
      },
      "outputs": [],
      "source": [
        "DIAL_CODES =[\n",
        "        (86, 'China'),\n",
        "        (91, 'India'),\n",
        "        (1, 'United States'),\n",
        "        (62, 'Indonesia'),\n",
        "        (55, 'Brazil'),\n",
        "        (92, 'Pakistan'),\n",
        "        (880, 'Bangladesh'),\n",
        "        (234, 'Nigeria'),\n",
        "        (7, 'Russia'),\n",
        "        (81, 'Japan'),\n",
        "             ]"
      ]
    },
    {
      "cell_type": "code",
      "source": [
        "d1 = dict(DIAL_CODES)\n",
        "d2 = dict(sorted(DIAL_CODES))\n",
        "d3 = dict(sorted(DIAL_CODES, key=lambda x:x[1]))\n",
        "assert(d1==d2 and d2 == d3)\n",
        "print(d1.keys())\n",
        "print(d2.keys())\n",
        "print(d3.keys())"
      ],
      "metadata": {
        "colab": {
          "base_uri": "https://localhost:8080/"
        },
        "id": "jLyBU9yB2MR-",
        "outputId": "5d9964bd-6a45-48a7-e4b7-c8eb80409008"
      },
      "execution_count": 7,
      "outputs": [
        {
          "output_type": "stream",
          "name": "stdout",
          "text": [
            "dict_keys([86, 91, 1, 62, 55, 92, 880, 234, 7, 81])\n",
            "dict_keys([1, 7, 55, 62, 81, 86, 91, 92, 234, 880])\n",
            "dict_keys([880, 55, 86, 91, 62, 81, 234, 92, 7, 1])\n"
          ]
        }
      ]
    }
  ]
}